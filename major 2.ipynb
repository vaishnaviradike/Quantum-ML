{
  "cells": [
    {
      "cell_type": "code",
      "source": [
        "# Install Pennylane\n",
        "!pip install pennylane\n",
        "\n",
        "import numpy as np\n",
        "import pandas as pd\n",
        "from sklearn.model_selection import train_test_split\n",
        "from sklearn.preprocessing import MinMaxScaler, LabelEncoder\n",
        "from sklearn.metrics import mean_squared_error\n",
        "import pennylane as qml\n",
        "\n",
        "# Load the brain stroke dataset\n",
        "data = pd.read_csv('/content/brain_stroke.csv')\n",
        "\n",
        "# Encode the 'smoking_status' column\n",
        "encoder = LabelEncoder()\n",
        "data['smoking_status'] = encoder.fit_transform(data['smoking_status'])\n",
        "\n",
        "# Drop the 'gender', 'ever_married', 'work_type', and 'Residence_type' columns\n",
        "data = data.drop(['gender', 'ever_married', 'work_type', 'Residence_type'], axis=1)\n",
        "\n",
        "# Split data into features (X) and target (y)\n",
        "X = data.drop('stroke', axis=1)\n",
        "y = data['stroke']\n",
        "\n",
        "# Scale the features\n",
        "scaler = MinMaxScaler()\n",
        "X = scaler.fit_transform(X)\n",
        "\n",
        "# Split data into train and test sets\n",
        "X_train, X_test, y_train, y_test = train_test_split(X, y, test_size=0.2, random_state=42)\n",
        "\n",
        "# Define the quantum device\n",
        "dev = qml.device(\"default.qubit\", wires=X.shape[1])\n",
        "\n",
        "# Quantum circuit definition\n",
        "@qml.qnode(dev)\n",
        "def qnn_circuit(weights, x):\n",
        "    qml.RY(np.sum(np.broadcast_to(weights, x.shape) * x), wires=0)\n",
        "    return qml.expval(qml.PauliZ(0))\n",
        "\n",
        "# Quantum neural network\n",
        "def qnn_model(weights, X):\n",
        "    return np.array([qnn_circuit(weights, x) for x in X])\n",
        "\n",
        "# Loss function\n",
        "def mean_squared_loss(weights, X, y):\n",
        "    predictions = qnn_model(weights, X)\n",
        "    return np.mean((predictions - y)**2)\n",
        "\n",
        "# Initialize random weights\n",
        "np.random.seed(0)\n",
        "num_weights = X.shape[1]\n",
        "init_weights = np.random.random(num_weights)\n",
        "\n",
        "# Optimize the QCNN\n",
        "opt = qml.GradientDescentOptimizer(0.1)\n",
        "weights = init_weights.copy()\n",
        "\n",
        "for i in range(100):\n",
        "    weights = opt.step(lambda w: mean_squared_loss(w, X_train, y_train), weights)\n",
        "\n",
        "# Make predictions\n",
        "predictions = qnn_model(weights, X_test)\n",
        "\n",
        "# Evaluate the performance\n",
        "test_rmse = np.sqrt(mean_squared_error(y_test, predictions))\n",
        "print('QCNN Test RMSE:', test_rmse)\n",
        "\n",
        "# Quantum Transfer Learning (QTL)\n",
        "# Define a new quantum neural network for transfer learning\n",
        "def qnn_model_qtl(weights, X):\n",
        "    return np.array([qnn_circuit(weights, x) for x in X])\n",
        "\n",
        "# Loss function for QTL\n",
        "def mean_squared_loss_qtl(weights, X, y):\n",
        "    predictions = qnn_model_qtl(weights, X)\n",
        "    return np.mean((predictions - y)**2)\n",
        "\n",
        "# Initialize weights with pre-trained QCNN weights\n",
        "weights_qtl = weights.copy()\n",
        "\n",
        "# Optimize the QNN for QTL\n",
        "for i in range(100):\n",
        "    weights_qtl = opt.step(lambda w: mean_squared_loss_qtl(w, X_train, y_train), weights_qtl)\n",
        "\n",
        "# Make predictions using QTL\n",
        "predictions_qtl = qnn_model_qtl(weights_qtl, X_test)\n",
        "\n",
        "# Evaluate the performance of QTL\n",
        "test_rmse_qtl = np.sqrt(mean_squared_error(y_test, predictions_qtl))\n",
        "print('QTL Test RMSE:', test_rmse_qtl)"
      ],
      "metadata": {
        "colab": {
          "base_uri": "https://localhost:8080/"
        },
        "id": "L9pUjkb9cO3z",
        "outputId": "d78e6083-36f8-4d91-b235-2f6e6ef0457e"
      },
      "execution_count": null,
      "outputs": [
        {
          "output_type": "stream",
          "name": "stdout",
          "text": [
            "Requirement already satisfied: pennylane in /usr/local/lib/python3.10/dist-packages (0.35.1)\n",
            "Requirement already satisfied: numpy in /usr/local/lib/python3.10/dist-packages (from pennylane) (1.25.2)\n",
            "Requirement already satisfied: scipy in /usr/local/lib/python3.10/dist-packages (from pennylane) (1.11.4)\n",
            "Requirement already satisfied: networkx in /usr/local/lib/python3.10/dist-packages (from pennylane) (3.3)\n",
            "Requirement already satisfied: rustworkx in /usr/local/lib/python3.10/dist-packages (from pennylane) (0.14.2)\n",
            "Requirement already satisfied: autograd in /usr/local/lib/python3.10/dist-packages (from pennylane) (1.6.2)\n",
            "Requirement already satisfied: toml in /usr/local/lib/python3.10/dist-packages (from pennylane) (0.10.2)\n",
            "Requirement already satisfied: appdirs in /usr/local/lib/python3.10/dist-packages (from pennylane) (1.4.4)\n",
            "Requirement already satisfied: semantic-version>=2.7 in /usr/local/lib/python3.10/dist-packages (from pennylane) (2.10.0)\n",
            "Requirement already satisfied: autoray>=0.6.1 in /usr/local/lib/python3.10/dist-packages (from pennylane) (0.6.9)\n",
            "Requirement already satisfied: cachetools in /usr/local/lib/python3.10/dist-packages (from pennylane) (5.3.3)\n",
            "Requirement already satisfied: pennylane-lightning>=0.35 in /usr/local/lib/python3.10/dist-packages (from pennylane) (0.35.1)\n",
            "Requirement already satisfied: requests in /usr/local/lib/python3.10/dist-packages (from pennylane) (2.31.0)\n",
            "Requirement already satisfied: typing-extensions in /usr/local/lib/python3.10/dist-packages (from pennylane) (4.11.0)\n",
            "Requirement already satisfied: future>=0.15.2 in /usr/local/lib/python3.10/dist-packages (from autograd->pennylane) (0.18.3)\n",
            "Requirement already satisfied: charset-normalizer<4,>=2 in /usr/local/lib/python3.10/dist-packages (from requests->pennylane) (3.3.2)\n",
            "Requirement already satisfied: idna<4,>=2.5 in /usr/local/lib/python3.10/dist-packages (from requests->pennylane) (3.6)\n",
            "Requirement already satisfied: urllib3<3,>=1.21.1 in /usr/local/lib/python3.10/dist-packages (from requests->pennylane) (2.0.7)\n",
            "Requirement already satisfied: certifi>=2017.4.17 in /usr/local/lib/python3.10/dist-packages (from requests->pennylane) (2024.2.2)\n"
          ]
        },
        {
          "output_type": "stream",
          "name": "stderr",
          "text": [
            "/usr/local/lib/python3.10/dist-packages/pennylane/_grad.py:157: UserWarning: Attempted to differentiate a function with no trainable parameters. If this is unintended, please add trainable parameters via the 'requires_grad' attribute or 'argnum' keyword.\n",
            "  warnings.warn(\n"
          ]
        },
        {
          "output_type": "stream",
          "name": "stdout",
          "text": [
            "QCNN Test RMSE: 0.6808072620728469\n"
          ]
        },
        {
          "output_type": "stream",
          "name": "stderr",
          "text": [
            "/usr/local/lib/python3.10/dist-packages/pennylane/_grad.py:157: UserWarning: Attempted to differentiate a function with no trainable parameters. If this is unintended, please add trainable parameters via the 'requires_grad' attribute or 'argnum' keyword.\n",
            "  warnings.warn(\n"
          ]
        },
        {
          "output_type": "stream",
          "name": "stdout",
          "text": [
            "QTL Test RMSE: 0.6808072620728469\n"
          ]
        }
      ]
    }
  ],
  "metadata": {
    "colab": {
      "provenance": []
    },
    "kernelspec": {
      "display_name": "Python 3",
      "name": "python3"
    },
    "language_info": {
      "name": "python"
    }
  },
  "nbformat": 4,
  "nbformat_minor": 0
}